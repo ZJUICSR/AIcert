{
 "cells": [
  {
   "cell_type": "code",
   "execution_count": 1,
   "id": "f9ebf969",
   "metadata": {
    "scrolled": true
   },
   "outputs": [
    {
     "name": "stdout",
     "output_type": "stream",
     "text": [
      "cuda\n",
      "|===========================================================================|\n",
      "|                  PyTorch CUDA memory summary, device ID 0                 |\n",
      "|---------------------------------------------------------------------------|\n",
      "|            CUDA OOMs: 0            |        cudaMalloc retries: 0         |\n",
      "|===========================================================================|\n",
      "|        Metric         | Cur Usage  | Peak Usage | Tot Alloc  | Tot Freed  |\n",
      "|---------------------------------------------------------------------------|\n",
      "| Allocated memory      |       0 B  |       0 B  |       0 B  |       0 B  |\n",
      "|       from large pool |       0 B  |       0 B  |       0 B  |       0 B  |\n",
      "|       from small pool |       0 B  |       0 B  |       0 B  |       0 B  |\n",
      "|---------------------------------------------------------------------------|\n",
      "| Active memory         |       0 B  |       0 B  |       0 B  |       0 B  |\n",
      "|       from large pool |       0 B  |       0 B  |       0 B  |       0 B  |\n",
      "|       from small pool |       0 B  |       0 B  |       0 B  |       0 B  |\n",
      "|---------------------------------------------------------------------------|\n",
      "| GPU reserved memory   |       0 B  |       0 B  |       0 B  |       0 B  |\n",
      "|       from large pool |       0 B  |       0 B  |       0 B  |       0 B  |\n",
      "|       from small pool |       0 B  |       0 B  |       0 B  |       0 B  |\n",
      "|---------------------------------------------------------------------------|\n",
      "| Non-releasable memory |       0 B  |       0 B  |       0 B  |       0 B  |\n",
      "|       from large pool |       0 B  |       0 B  |       0 B  |       0 B  |\n",
      "|       from small pool |       0 B  |       0 B  |       0 B  |       0 B  |\n",
      "|---------------------------------------------------------------------------|\n",
      "| Allocations           |       0    |       0    |       0    |       0    |\n",
      "|       from large pool |       0    |       0    |       0    |       0    |\n",
      "|       from small pool |       0    |       0    |       0    |       0    |\n",
      "|---------------------------------------------------------------------------|\n",
      "| Active allocs         |       0    |       0    |       0    |       0    |\n",
      "|       from large pool |       0    |       0    |       0    |       0    |\n",
      "|       from small pool |       0    |       0    |       0    |       0    |\n",
      "|---------------------------------------------------------------------------|\n",
      "| GPU reserved segments |       0    |       0    |       0    |       0    |\n",
      "|       from large pool |       0    |       0    |       0    |       0    |\n",
      "|       from small pool |       0    |       0    |       0    |       0    |\n",
      "|---------------------------------------------------------------------------|\n",
      "| Non-releasable allocs |       0    |       0    |       0    |       0    |\n",
      "|       from large pool |       0    |       0    |       0    |       0    |\n",
      "|       from small pool |       0    |       0    |       0    |       0    |\n",
      "|---------------------------------------------------------------------------|\n",
      "| Oversize allocations  |       0    |       0    |       0    |       0    |\n",
      "|---------------------------------------------------------------------------|\n",
      "| Oversize GPU segments |       0    |       0    |       0    |       0    |\n",
      "|===========================================================================|\n",
      "\n"
     ]
    }
   ],
   "source": [
    "import torch\n",
    "device = torch.device('cuda' if torch.cuda.is_available() else 'cpu')\n",
    "print(device)\n",
    "torch.cuda.empty_cache()\n",
    "print(torch.cuda.memory_summary())\n",
    "import os\n",
    "os.environ['CUDA_LAUNCH_BLOCKING'] = '1' # 下面老是报错 shape 不一致"
   ]
  },
  {
   "cell_type": "code",
   "execution_count": 2,
   "id": "1761e17e",
   "metadata": {},
   "outputs": [],
   "source": [
    "#coding:utf-8\n",
    "import sys\n",
    "sys.path.append(\"..\")\n",
    "import os\n",
    "import torch\n",
    "import torch.nn as nn\n",
    "from torch.utils.data import DataLoader\n",
    "from torchvision import datasets,transforms\n",
    "from torch.autograd import Variable\n",
    "from imagenet_labels import *\n",
    "from vgg_model import *\n",
    "from adv_cleverhans import *\n",
    "\n",
    "device = torch.device('cuda' if torch.cuda.is_available() else 'cpu')\n",
    "\n",
    "dataset_root = '../dataset/train/'\n",
    "data_transform = transforms.Compose([\n",
    "    transforms.Resize((224, 224)),\n",
    "    transforms.ToTensor(),\n",
    "])\n",
    "dataset = datasets.ImageFolder(root=dataset_root, transform=data_transform)\n",
    "\n",
    "torch.cuda.empty_cache()\n",
    "batch_size=32\n",
    "val_dataloader = DataLoader(dataset, batch_size=batch_size, shuffle=False)\n",
    "\n",
    "model = VggNet(num_classes=10)\n",
    "model.load_state_dict((torch.load('../AT_my/model/no.pt')))\n",
    "model = model.to(device).eval()"
   ]
  },
  {
   "cell_type": "code",
   "execution_count": 3,
   "id": "9ed6402c",
   "metadata": {},
   "outputs": [],
   "source": [
    "def logic_change(unitA,unitB):\n",
    "    count = 0\n",
    "    for u in unitA:\n",
    "        if u in unitB:\n",
    "            count += 1\n",
    "    return len(unitB)-count\n",
    "\n",
    "def get_once_test_data(data,true_labels): \n",
    "    adv_example, adv_target = FGSM(model, data, true_labels, targeted=True,y=torch.tensor([9] * batch_size, device=device))  # 评估FGSM有目标攻击下对抗样本的逻辑神经元有效率\n",
    "    \n",
    "    clean_logic_distance=[] \n",
    "    # 原始样本与逻辑神经元\n",
    "    for i in range(len(data)):\n",
    "        data_logic = Logic(model,'imagenet')\n",
    "        data_units, pre_label, data_class_units,cyout = data_logic.cal_logic_units(data[i]) \n",
    "        #逻辑距离：样本逻辑神经元VS所属类逻辑神经元\n",
    "        distance=logic_change(data_units,data_class_units)\n",
    "        clean_logic_distance.append(distance)\n",
    "    # 对抗样本与逻辑神经元\n",
    "    adv_logic_distance=[]\n",
    "    for i in range(len(adv_example)):\n",
    "        clean_logic = Logic(model,'imagenet')\n",
    "        clean_units, clabel, clean_class_units,cyout = clean_logic.cal_logic_units(data[i])\n",
    "        adv_logic = Logic(model,'imagenet')\n",
    "        adv_units, alabel, adv_class_units,ayout = adv_logic.cal_logic_units(adv_example[i])\n",
    "        distance=logic_change(clean_units,adv_units)\n",
    "        adv_logic_distance.append(distance)\n",
    "        \n",
    "    one_test_data=torch.cat([data,adv_example],dim=0)\n",
    "    one_test_label=torch.cat([true_labels,true_labels],dim=0)\n",
    "    one_test_logic_distance=np.append(clean_logic_distance,adv_logic_distance)\n",
    "    \n",
    "    logits = model(data)\n",
    "    pred = logits.argmax(dim=1)\n",
    "    clean_is_right=(pred==true_labels).squeeze().cpu().numpy()\n",
    "    adv_is_right=(adv_target == true_labels).squeeze().cpu().numpy()\n",
    "    is_right=np.append(clean_is_right,adv_is_right)\n",
    "    return one_test_data,one_test_label,one_test_logic_distance,is_right"
   ]
  },
  {
   "cell_type": "code",
   "execution_count": 4,
   "id": "8bb48697",
   "metadata": {},
   "outputs": [],
   "source": [
    "image_iter = iter(val_dataloader)\n",
    "data, true_labels = image_iter.next()\n",
    "data, true_labels = data.to(device),true_labels.to(device)\n",
    "all_test_data,all_test_label,all_test_logic_distance,all_is_right=get_once_test_data(data, true_labels)\n",
    "for i in range(19):#抽取的测试数据集大小为 20*batchsize\n",
    "    data, true_labels = image_iter.next()\n",
    "    data, true_labels = data.to(device),true_labels.to(device)\n",
    "    one_test_data,one_test_label,one_test_logic_distance,is_right=get_once_test_data(data, true_labels)\n",
    "    all_test_data=torch.cat([all_test_data,one_test_data],dim=0)\n",
    "    all_test_label=torch.cat([all_test_label,one_test_label],dim=0)\n",
    "    all_test_logic_distance=np.append(all_test_logic_distance,one_test_logic_distance)\n",
    "    all_is_right=np.append(all_is_right,is_right)"
   ]
  },
  {
   "cell_type": "code",
   "execution_count": 5,
   "id": "dc2dd771",
   "metadata": {},
   "outputs": [
    {
     "data": {
      "text/plain": [
       "1280"
      ]
     },
     "execution_count": 5,
     "metadata": {},
     "output_type": "execute_result"
    }
   ],
   "source": [
    "len(all_test_logic_distance)"
   ]
  },
  {
   "cell_type": "code",
   "execution_count": 6,
   "id": "03e73f85",
   "metadata": {},
   "outputs": [],
   "source": [
    "def deep_logic(logic_distance):\n",
    "    rank_lst = np.argsort(logic_distance)  # 按照值从小到大排序,因此序号越小代表值越小代表越好\n",
    "    return rank_lst[::-1]"
   ]
  },
  {
   "cell_type": "code",
   "execution_count": 7,
   "id": "3653f63d",
   "metadata": {},
   "outputs": [
    {
     "name": "stderr",
     "output_type": "stream",
     "text": [
      "/home/zxliang/anaconda3/envs/logic/lib/python3.7/site-packages/pandas/core/indexing.py:1732: SettingWithCopyWarning: \n",
      "A value is trying to be set on a copy of a slice from a DataFrame\n",
      "\n",
      "See the caveats in the documentation: https://pandas.pydata.org/pandas-docs/stable/user_guide/indexing.html#returning-a-view-versus-a-copy\n",
      "  self._setitem_single_block(indexer, value, name)\n"
     ]
    }
   ],
   "source": [
    "import time\n",
    "import pandas as pd\n",
    "# 可以贪心排\n",
    "# 可以单个样本比较排\n",
    "# 0 0.5 1\n",
    "\n",
    "start = time.time()\n",
    "rank_lst = deep_logic(all_test_logic_distance)\n",
    "end = time.time()\n",
    "rank_lst_time = end-start\n",
    "\n",
    "df = pd.DataFrame([])\n",
    "\n",
    "df['right'] = all_is_right.astype('int')\n",
    "df['cam'] = 0\n",
    "df['cam'].loc[rank_lst] = list(range(1, len(rank_lst) + 1))\n",
    "df['cam_time'] = rank_lst_time\n",
    "df['rate'] = 0\n",
    "df['ctm'] = 0\n",
    "df['ctm'].loc[rank_lst] = list(range(1, len(rank_lst) + 1))\n",
    "df['ctm_time'] = rank_lst_time"
   ]
  },
  {
   "cell_type": "code",
   "execution_count": 9,
   "id": "359441bc",
   "metadata": {},
   "outputs": [],
   "source": [
    "df.to_csv('./all_output/output_imagenet/{}/{}_fgsm_deeplogic.csv'.format('vgg16', 'imagenet'))"
   ]
  },
  {
   "cell_type": "code",
   "execution_count": 10,
   "id": "5bd08dec",
   "metadata": {},
   "outputs": [],
   "source": [
    "torch.save(all_test_data,'testdata_640clean_640adv_fgsm_imagenet.pt')\n",
    "torch.save(all_test_label,'testlabel_640clean_640adv_fgsm_imagenet.pt')"
   ]
  },
  {
   "cell_type": "code",
   "execution_count": null,
   "id": "ed95413e",
   "metadata": {},
   "outputs": [],
   "source": []
  },
  {
   "cell_type": "code",
   "execution_count": null,
   "id": "221b0f99",
   "metadata": {},
   "outputs": [],
   "source": []
  }
 ],
 "metadata": {
  "kernelspec": {
   "display_name": "Python 3 (ipykernel)",
   "language": "python",
   "name": "python3"
  },
  "language_info": {
   "codemirror_mode": {
    "name": "ipython",
    "version": 3
   },
   "file_extension": ".py",
   "mimetype": "text/x-python",
   "name": "python",
   "nbconvert_exporter": "python",
   "pygments_lexer": "ipython3",
   "version": "3.7.11"
  }
 },
 "nbformat": 4,
 "nbformat_minor": 5
}
