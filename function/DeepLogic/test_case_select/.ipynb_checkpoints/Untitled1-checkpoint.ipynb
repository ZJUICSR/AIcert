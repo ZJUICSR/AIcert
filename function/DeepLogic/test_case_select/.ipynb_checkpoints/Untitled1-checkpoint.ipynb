{
 "cells": [
  {
   "cell_type": "code",
   "execution_count": 37,
   "id": "316e7207",
   "metadata": {},
   "outputs": [],
   "source": [
    "#coding:utf-8\n",
    "import sys\n",
    "sys.path.append(\"..\")\n",
    "import os\n",
    "import torch\n",
    "import torch.nn as nn\n",
    "from torch.utils.data import DataLoader\n",
    "from torchvision import datasets,transforms\n",
    "from torch.autograd import Variable\n",
    "from models.resnet import *\n",
    "from models.vggnet import *\n",
    "from models.mynet import *\n",
    "import torch.optim as optim\n",
    "import numpy as np\n",
    "import matplotlib.pyplot as plt\n",
    "\n",
    "device = torch.device('cuda' if torch.cuda.is_available() else 'cpu')\n",
    "\n",
    "def _pgd_whitebox(model,\n",
    "                  X,\n",
    "                  y,\n",
    "                  epsilon,\n",
    "                  num_steps,\n",
    "                  step_size,\n",
    "                  random=True):\n",
    "    #out = model(X)\n",
    "    #err = (out.data.max(1)[1] != y.data).float().sum()\n",
    "    X_pgd = Variable(X.data, requires_grad=True)\n",
    "    if random:\n",
    "        random_noise = torch.FloatTensor(*X_pgd.shape).uniform_(-epsilon, epsilon).to(device)\n",
    "        X_pgd = Variable(X_pgd.data + random_noise, requires_grad=True)\n",
    "\n",
    "    for _ in range(num_steps):\n",
    "        opt = optim.SGD([X_pgd], lr=1e-3)\n",
    "        opt.zero_grad()\n",
    "\n",
    "        with torch.enable_grad():\n",
    "            loss = nn.CrossEntropyLoss()(model(X_pgd), y)\n",
    "        loss.backward()\n",
    "        eta = step_size * X_pgd.grad.data.sign()\n",
    "        X_pgd = Variable(X_pgd.data + eta, requires_grad=True)\n",
    "        eta = torch.clamp(X_pgd.data - X.data, -epsilon, epsilon)\n",
    "        X_pgd = Variable(X.data + eta, requires_grad=True)\n",
    "        X_pgd = Variable(torch.clamp(X_pgd, 0, 1.0), requires_grad=True)\n",
    "    #err_pgd = (model(X_pgd).data.max(1)[1] != y.data).float().sum()\n",
    "    #print('err pgd (white-box): ', err_pgd)\n",
    "    return X_pgd\n",
    "def one_hot_tensor(y_batch_tensor, num_classes, device):\n",
    "    y_tensor = torch.cuda.FloatTensor(y_batch_tensor.size(0),\n",
    "                                      num_classes).fill_(0)\n",
    "    y_tensor[np.arange(len(y_batch_tensor)), y_batch_tensor] = 1.0\n",
    "    return y_tensor\n",
    "\n",
    "class CWLoss(nn.Module):\n",
    "    def __init__(self, num_classes, margin=50, reduce=True):\n",
    "        super(CWLoss, self).__init__()\n",
    "        self.num_classes = num_classes\n",
    "        self.margin = margin\n",
    "        self.reduce = reduce\n",
    "        return\n",
    "\n",
    "    def forward(self, logits, targets):\n",
    "        \"\"\"\n",
    "        :param inputs: predictions\n",
    "        :param targets: target labels\n",
    "        :return: loss\n",
    "        \"\"\"\n",
    "        onehot_targets = one_hot_tensor(targets, self.num_classes,\n",
    "                                        targets.device)\n",
    "\n",
    "        self_loss = torch.sum(onehot_targets * logits, dim=1)\n",
    "        other_loss = torch.max(\n",
    "            (1 - onehot_targets) * logits - onehot_targets * 1000, dim=1)[0]\n",
    "\n",
    "        loss = -torch.sum(torch.clamp(self_loss - other_loss + self.margin, 0))\n",
    "\n",
    "        if self.reduce:\n",
    "            sample_num = onehot_targets.shape[0]\n",
    "            loss = loss / sample_num\n",
    "\n",
    "        return loss\n",
    "    \n",
    "def _cw_whitebox(model,\n",
    "                 X,\n",
    "                 y,\n",
    "                 epsilon,\n",
    "                 num_steps,\n",
    "                 step_size,\n",
    "                 random=True):\n",
    "    #out = model(X)\n",
    "    #err = (out.data.max(1)[1] != y.data).float().sum()\n",
    "    X_pgd = Variable(X.data, requires_grad=True)\n",
    "    if random:\n",
    "        random_noise = torch.FloatTensor(*X_pgd.shape).uniform_(-epsilon, epsilon).to(device)\n",
    "        X_pgd = Variable(X_pgd.data + random_noise, requires_grad=True)\n",
    "\n",
    "    for _ in range(num_steps):\n",
    "        opt = optim.SGD([X_pgd], lr=1e-3)\n",
    "        opt.zero_grad()\n",
    "\n",
    "        with torch.enable_grad():\n",
    "            loss = CWLoss(10)(model(X_pgd), y)   #cifar10--num_classes=10,imagnet--num_classes=1000\n",
    "        loss.backward()\n",
    "        eta = step_size * X_pgd.grad.data.sign()\n",
    "        X_pgd = Variable(X_pgd.data + eta, requires_grad=True)\n",
    "        eta = torch.clamp(X_pgd.data - X.data, -epsilon, epsilon)\n",
    "        X_pgd = Variable(X.data + eta, requires_grad=True)\n",
    "        X_pgd = Variable(torch.clamp(X_pgd, 0, 1.0), requires_grad=True)\n",
    "    #err_pgd = (model(X_pgd).data.max(1)[1] != y.data).float().sum()\n",
    "    #print('err cw (white-box): ', err_pgd)\n",
    "    return X_pgd\n",
    "\n",
    "\n",
    "\n",
    "  \n",
    "batch_size=128\n",
    "\n",
    "#vgg16+cifar10\n",
    "val_dataset = datasets.CIFAR10(root='../dataset/data', train=False,download=False, transform=transforms.ToTensor())\n",
    "val_dataloader = DataLoader(val_dataset, batch_size=batch_size, shuffle=False)\n",
    "model = vgg16_bn().to(device)\n",
    "model.load_state_dict((torch.load('../adv_train/model-vgg16-cifar10/Standard-cifar10-model-vgg16-epoch300.pt')))#评估普通模型-干净样本准确率\n",
    "model = model.to(device).eval()\n",
    "model_name='vgg16'\n",
    "dataset_name='cifar10'"
   ]
  },
  {
   "cell_type": "code",
   "execution_count": 38,
   "id": "1c55aea5",
   "metadata": {},
   "outputs": [
    {
     "name": "stdout",
     "output_type": "stream",
     "text": [
      "torch.Size([640, 3, 32, 32])\n",
      "torch.Size([640])\n"
     ]
    }
   ],
   "source": [
    "set_num=2 #控制生成测试集的小组数目\n",
    "all_test_data=[]\n",
    "all_test_label=[]\n",
    "for data, label in val_dataloader:\n",
    "    if set_num>0:\n",
    "        data, label = data.to(device), label.to(device)\n",
    "        all_test_data.append(data)#clean\n",
    "        all_test_label.append(label)\n",
    "        X, y = Variable(data, requires_grad=True), Variable(label)\n",
    "        if set_num%2==0:\n",
    "            one_fgsm = _pgd_whitebox(model, X, y, epsilon=8/255.0, num_steps=1,step_size=8/255.0)\n",
    "            all_test_data.append(one_fgsm)#fgsm\n",
    "            all_test_label.append(label)\n",
    "            one_pgd = _pgd_whitebox(model, X, y, epsilon=0.031,num_steps=10, step_size=0.003)\n",
    "            all_test_data.append(one_pgd)#pgd100\n",
    "            all_test_label.append(label)\n",
    "            one_cw = _cw_whitebox(model, X, y, epsilon=0.031,num_steps=10, step_size=0.003)\n",
    "            all_test_data.append(one_cw)#cw\n",
    "            all_test_label.append(label)\n",
    "        set_num=set_num-1\n",
    "    else:\n",
    "        break\n",
    "all_test_data=torch.cat(all_test_data,dim=0)\n",
    "all_test_label=torch.cat(all_test_label,dim=0)\n",
    "print(all_test_data.shape)\n",
    "print(all_test_label.shape)"
   ]
  },
  {
   "cell_type": "code",
   "execution_count": 39,
   "id": "f52856a4",
   "metadata": {},
   "outputs": [
    {
     "data": {
      "image/png": "[encoded data removed]",
      "text/plain": [
       "<Figure size 432x288 with 2 Axes>"
      ]
     },
     "metadata": {
      "needs_background": "light"
     },
     "output_type": "display_data"
    }
   ],
   "source": [
    "plt.figure()\n",
    "\n",
    "plt.subplot(1, 3, 1)\n",
    "plt.title('Orignal Image')\n",
    "original_image=all_test_data[1].cpu().detach().numpy()\n",
    "plt.imshow(np.transpose(original_image, (1, 2, 0)))  # division by 255 to convert [0, 255] to [0, 1]\n",
    "\n",
    "plt.subplot(1, 3, 2)\n",
    "plt.title('Adversarial Image')\n",
    "adversarial=all_test_data[129].cpu().detach().numpy()\n",
    "plt.imshow(np.transpose(adversarial, (1, 2, 0)))  # division by 255 to convert [0, 255] to [0, 1]\n",
    "\n",
    "plt.show()"
   ]
  },
  {
   "cell_type": "code",
   "execution_count": 40,
   "id": "c527ccc0",
   "metadata": {},
   "outputs": [
    {
     "name": "stderr",
     "output_type": "stream",
     "text": [
      "/home/zxliang/anaconda3/envs/logic/lib/python3.7/site-packages/ipykernel_launcher.py:2: UserWarning: Implicit dimension choice for softmax has been deprecated. Change the call to include dim=X as an argument.\n",
      "  \n"
     ]
    }
   ],
   "source": [
    "output=model(all_test_data.to(device))\n",
    "prob = F.softmax(output)\n",
    "pred_test_prob=prob.cpu().detach().numpy()"
   ]
  },
  {
   "cell_type": "code",
   "execution_count": 41,
   "id": "1fab7a3e",
   "metadata": {},
   "outputs": [
    {
     "data": {
      "text/plain": [
       "(640, 10)"
      ]
     },
     "execution_count": 41,
     "metadata": {},
     "output_type": "execute_result"
    }
   ],
   "source": [
    "pred_test_prob.shape"
   ]
  },
  {
   "cell_type": "code",
   "execution_count": 42,
   "id": "fdbe2e46",
   "metadata": {},
   "outputs": [
    {
     "data": {
      "text/plain": [
       "array([6.3057337e-07, 1.6667511e-06, 1.2989268e-07, 1.0189222e-07,\n",
       "       9.5351114e-09, 5.1453206e-08, 2.8167694e-08, 4.7380553e-09,\n",
       "       9.9999595e-01, 1.4678814e-06], dtype=float32)"
      ]
     },
     "execution_count": 42,
     "metadata": {},
     "output_type": "execute_result"
    }
   ],
   "source": [
    "pred_test_prob[1]"
   ]
  },
  {
   "cell_type": "code",
   "execution_count": 43,
   "id": "f53149f2",
   "metadata": {},
   "outputs": [
    {
     "data": {
      "text/plain": [
       "0.9999919"
      ]
     },
     "execution_count": 43,
     "metadata": {},
     "output_type": "execute_result"
    }
   ],
   "source": [
    "metrics = np.sum(pred_test_prob[1] ** 2)\n",
    "metrics"
   ]
  },
  {
   "cell_type": "code",
   "execution_count": 44,
   "id": "8a7ced8c",
   "metadata": {},
   "outputs": [
    {
     "data": {
      "text/plain": [
       "array([8.0976226e-10, 1.0000000e+00, 1.6044969e-12, 5.4949968e-12,\n",
       "       1.1921260e-17, 7.0643102e-11, 1.1580071e-10, 5.6686098e-14,\n",
       "       2.2511573e-09, 3.9465228e-08], dtype=float32)"
      ]
     },
     "execution_count": 44,
     "metadata": {},
     "output_type": "execute_result"
    }
   ],
   "source": [
    "pred_test_prob[129]"
   ]
  },
  {
   "cell_type": "code",
   "execution_count": 45,
   "id": "80b2a5a6",
   "metadata": {},
   "outputs": [
    {
     "data": {
      "text/plain": [
       "1.0"
      ]
     },
     "execution_count": 45,
     "metadata": {},
     "output_type": "execute_result"
    }
   ],
   "source": [
    "metrics = np.sum(pred_test_prob[129] ** 2)\n",
    "metrics"
   ]
  },
  {
   "cell_type": "code",
   "execution_count": null,
   "id": "e441daef",
   "metadata": {},
   "outputs": [],
   "source": []
  }
 ],
 "metadata": {
  "kernelspec": {
   "display_name": "Python 3 (ipykernel)",
   "language": "python",
   "name": "python3"
  },
  "language_info": {
   "codemirror_mode": {
    "name": "ipython",
    "version": 3
   },
   "file_extension": ".py",
   "mimetype": "text/x-python",
   "name": "python",
   "nbconvert_exporter": "python",
   "pygments_lexer": "ipython3",
   "version": "3.7.11"
  }
 },
 "nbformat": 4,
 "nbformat_minor": 5
}
