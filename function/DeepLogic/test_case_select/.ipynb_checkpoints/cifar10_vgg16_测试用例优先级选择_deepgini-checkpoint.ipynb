{
 "cells": [
  {
   "cell_type": "code",
   "execution_count": 1,
   "id": "4a8ee1fa",
   "metadata": {},
   "outputs": [
    {
     "name": "stdout",
     "output_type": "stream",
     "text": [
      "|===========================================================================|\n",
      "|                  PyTorch CUDA memory summary, device ID 0                 |\n",
      "|---------------------------------------------------------------------------|\n",
      "|            CUDA OOMs: 0            |        cudaMalloc retries: 0         |\n",
      "|===========================================================================|\n",
      "|        Metric         | Cur Usage  | Peak Usage | Tot Alloc  | Tot Freed  |\n",
      "|---------------------------------------------------------------------------|\n",
      "| Allocated memory      |       0 B  |       0 B  |       0 B  |       0 B  |\n",
      "|       from large pool |       0 B  |       0 B  |       0 B  |       0 B  |\n",
      "|       from small pool |       0 B  |       0 B  |       0 B  |       0 B  |\n",
      "|---------------------------------------------------------------------------|\n",
      "| Active memory         |       0 B  |       0 B  |       0 B  |       0 B  |\n",
      "|       from large pool |       0 B  |       0 B  |       0 B  |       0 B  |\n",
      "|       from small pool |       0 B  |       0 B  |       0 B  |       0 B  |\n",
      "|---------------------------------------------------------------------------|\n",
      "| GPU reserved memory   |       0 B  |       0 B  |       0 B  |       0 B  |\n",
      "|       from large pool |       0 B  |       0 B  |       0 B  |       0 B  |\n",
      "|       from small pool |       0 B  |       0 B  |       0 B  |       0 B  |\n",
      "|---------------------------------------------------------------------------|\n",
      "| Non-releasable memory |       0 B  |       0 B  |       0 B  |       0 B  |\n",
      "|       from large pool |       0 B  |       0 B  |       0 B  |       0 B  |\n",
      "|       from small pool |       0 B  |       0 B  |       0 B  |       0 B  |\n",
      "|---------------------------------------------------------------------------|\n",
      "| Allocations           |       0    |       0    |       0    |       0    |\n",
      "|       from large pool |       0    |       0    |       0    |       0    |\n",
      "|       from small pool |       0    |       0    |       0    |       0    |\n",
      "|---------------------------------------------------------------------------|\n",
      "| Active allocs         |       0    |       0    |       0    |       0    |\n",
      "|       from large pool |       0    |       0    |       0    |       0    |\n",
      "|       from small pool |       0    |       0    |       0    |       0    |\n",
      "|---------------------------------------------------------------------------|\n",
      "| GPU reserved segments |       0    |       0    |       0    |       0    |\n",
      "|       from large pool |       0    |       0    |       0    |       0    |\n",
      "|       from small pool |       0    |       0    |       0    |       0    |\n",
      "|---------------------------------------------------------------------------|\n",
      "| Non-releasable allocs |       0    |       0    |       0    |       0    |\n",
      "|       from large pool |       0    |       0    |       0    |       0    |\n",
      "|       from small pool |       0    |       0    |       0    |       0    |\n",
      "|---------------------------------------------------------------------------|\n",
      "| Oversize allocations  |       0    |       0    |       0    |       0    |\n",
      "|---------------------------------------------------------------------------|\n",
      "| Oversize GPU segments |       0    |       0    |       0    |       0    |\n",
      "|===========================================================================|\n",
      "\n"
     ]
    }
   ],
   "source": [
    "import torch\n",
    "torch.cuda.empty_cache()\n",
    "print(torch.cuda.memory_summary())"
   ]
  },
  {
   "cell_type": "code",
   "execution_count": 2,
   "id": "ff0f21b8",
   "metadata": {},
   "outputs": [],
   "source": [
    "#coding:utf-8\n",
    "import sys\n",
    "sys.path.append(\"..\")\n",
    "import os\n",
    "import torch\n",
    "import torch.nn as nn\n",
    "from torch.utils.data import DataLoader\n",
    "from torchvision import datasets,transforms\n",
    "from torch.autograd import Variable\n",
    "from imagenet_labels import *\n",
    "from vgg_model import *\n",
    "from adv_cleverhans import *\n",
    "from tqdm import tqdm\n",
    "\n",
    "device = torch.device('cuda' if torch.cuda.is_available() else 'cpu')\n",
    "\n",
    "#data_transform = transforms.Compose(\n",
    "#    [transforms.ToTensor(),\n",
    "#     transforms.Normalize((0.5, 0.5, 0.5), (0.5, 0.5, 0.5))])# 把[0,1]归一化到[-1,1]\n",
    "\n",
    "#train_dataset = datasets.CIFAR10(root='./data', train=True,download=False, transform=data_transform)\n",
    "val_dataset = datasets.CIFAR10(root='../dataset/data', train=False,download=False, transform=transforms.ToTensor())\n",
    "\n",
    "batch_size=128\n",
    "\n",
    "#train_dataloader = DataLoader(train_dataset, batch_size=batch_size, shuffle=False)\n",
    "val_dataloader = DataLoader(val_dataset, batch_size=batch_size, shuffle=False)\n",
    "model = VggNet(num_classes=10)\n",
    "model.load_state_dict((torch.load('../AT_vgg16_cifar10/checkpoint/cifar-10_std/checkpoint_76000.pth')))#评估普通模型-干净样本准确率\n",
    "model = model.to(device).eval()\n",
    "\n",
    "classes = ('plane', 'car', 'bird', 'cat',\n",
    "    'deer', 'dog', 'frog', 'horse', 'ship', 'truck')\n",
    "\n",
    "#加载测试数据集\n",
    "images=torch.load('testdata_2560clean_2560adv_fgsm_cifar10.pt')\n",
    "labels=torch.load('testlabel_2560clean_2560adv_fgsm_cifar10.pt')"
   ]
  },
  {
   "cell_type": "code",
   "execution_count": 3,
   "id": "69e30b11",
   "metadata": {},
   "outputs": [
    {
     "data": {
      "text/plain": [
       "torch.Size([5120])"
      ]
     },
     "execution_count": 3,
     "metadata": {},
     "output_type": "execute_result"
    }
   ],
   "source": [
    "labels.shape"
   ]
  },
  {
   "cell_type": "code",
   "execution_count": 4,
   "id": "70b71e2f",
   "metadata": {},
   "outputs": [],
   "source": [
    "data=images[:2560]"
   ]
  },
  {
   "cell_type": "code",
   "execution_count": 5,
   "id": "9b1ea2a3",
   "metadata": {},
   "outputs": [],
   "source": [
    "true_test=labels[:2560]"
   ]
  },
  {
   "cell_type": "code",
   "execution_count": 6,
   "id": "cb145f1d",
   "metadata": {},
   "outputs": [],
   "source": [
    "## deepgini\n",
    "def deep_gini(pred_test_prob):\n",
    "    metrics = np.sum(pred_test_prob ** 2,axis=1)  # 值越小,1-值就越大,因此值越小越好\n",
    "    rank_lst = np.argsort(metrics)  # 按照值从小到大排序,因此序号越小代表值越小代表越好\n",
    "    return rank_lst"
   ]
  },
  {
   "cell_type": "code",
   "execution_count": 7,
   "id": "0ad9bfeb",
   "metadata": {},
   "outputs": [],
   "source": [
    "import time\n",
    "import pandas as pd\n",
    "# 可以贪心排\n",
    "# 可以单个样本比较排\n",
    "# 0 0.5 1\n",
    "\n",
    "pred_test_prob = model(data.to(device)).cpu().detach().numpy()"
   ]
  },
  {
   "cell_type": "code",
   "execution_count": 10,
   "id": "c8b3eaec",
   "metadata": {},
   "outputs": [],
   "source": [
    "pred_test=np.argmax(pred_test_prob, axis=1)"
   ]
  },
  {
   "cell_type": "code",
   "execution_count": 14,
   "id": "d0c34c25",
   "metadata": {},
   "outputs": [],
   "source": [
    "pred_test_sort=np.argsort(pred_test_prob, axis=1)"
   ]
  },
  {
   "cell_type": "code",
   "execution_count": 17,
   "id": "a97bf16e",
   "metadata": {},
   "outputs": [
    {
     "data": {
      "text/plain": [
       "array([[1, 8, 9, ..., 2, 5, 3],\n",
       "       [7, 5, 4, ..., 9, 0, 8],\n",
       "       [7, 5, 4, ..., 9, 0, 8],\n",
       "       ...,\n",
       "       [7, 8, 1, ..., 2, 3, 6],\n",
       "       [1, 7, 5, ..., 0, 6, 2],\n",
       "       [1, 7, 5, ..., 3, 6, 2]])"
      ]
     },
     "execution_count": 17,
     "metadata": {},
     "output_type": "execute_result"
    }
   ],
   "source": [
    "pred_test_sort\n",
    "if pred_test_sort[0]=true_test:\n",
    "    error_level=0\n",
    "elif pred_test_sort[1]=true_test:\n",
    "    error_level=5\n",
    "elif pred_test_sort[2]=true_test:\n",
    "    error_level=10\n",
    "else\n",
    "    error_level=100"
   ]
  },
  {
   "cell_type": "code",
   "execution_count": 10,
   "id": "7d071c1d",
   "metadata": {},
   "outputs": [
    {
     "name": "stderr",
     "output_type": "stream",
     "text": [
      "/home/zxliang/anaconda3/envs/logic/lib/python3.7/site-packages/pandas/core/indexing.py:1732: SettingWithCopyWarning: \n",
      "A value is trying to be set on a copy of a slice from a DataFrame\n",
      "\n",
      "See the caveats in the documentation: https://pandas.pydata.org/pandas-docs/stable/user_guide/indexing.html#returning-a-view-versus-a-copy\n",
      "  self._setitem_single_block(indexer, value, name)\n"
     ]
    }
   ],
   "source": [
    "import time\n",
    "import pandas as pd\n",
    "# 可以贪心排\n",
    "# 可以单个样本比较排\n",
    "# 0 0.5 1\n",
    "\n",
    "pred_test_prob = model(data.to(device)).cpu().detach().numpy()\n",
    "pred_test=np.argmax(pred_test_prob, axis=1)\n",
    "start = time.time()\n",
    "rank_lst = deep_gini(pred_test_prob)\n",
    "end = time.time()\n",
    "rank_lst_time = end-start\n",
    "\n",
    "df = pd.DataFrame([])\n",
    "\n",
    "true_test=true_test.cpu().numpy()\n",
    "df['right'] = (pred_test == true_test).astype('int')\n",
    "df['cam'] = 0\n",
    "df['cam'].loc[rank_lst] = list(range(1, len(rank_lst) + 1))\n",
    "df['cam_time'] = rank_lst_time\n",
    "df['rate'] = 0\n",
    "df['ctm'] = 0\n",
    "df['ctm'].loc[rank_lst] = list(range(1, len(rank_lst) + 1))\n",
    "df['ctm_time'] = rank_lst_time\n",
    "df['error_level']=error_level"
   ]
  },
  {
   "cell_type": "code",
   "execution_count": 11,
   "id": "1f96e103",
   "metadata": {},
   "outputs": [],
   "source": [
    "df.to_csv('./all_output/output_cifar/{}/{}_deepgini_0.csv'.format('vgg16', 'cifar', 0.0))"
   ]
  },
  {
   "cell_type": "code",
   "execution_count": null,
   "id": "4dcd4f3e",
   "metadata": {},
   "outputs": [],
   "source": []
  }
 ],
 "metadata": {
  "kernelspec": {
   "display_name": "Python 3 (ipykernel)",
   "language": "python",
   "name": "python3"
  },
  "language_info": {
   "codemirror_mode": {
    "name": "ipython",
    "version": 3
   },
   "file_extension": ".py",
   "mimetype": "text/x-python",
   "name": "python",
   "nbconvert_exporter": "python",
   "pygments_lexer": "ipython3",
   "version": "3.7.11"
  }
 },
 "nbformat": 4,
 "nbformat_minor": 5
}
