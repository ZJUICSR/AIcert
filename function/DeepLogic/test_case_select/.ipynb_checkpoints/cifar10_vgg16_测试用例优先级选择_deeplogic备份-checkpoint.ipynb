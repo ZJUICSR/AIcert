{
 "cells": [
  {
   "cell_type": "code",
   "execution_count": 1,
   "id": "f9ebf969",
   "metadata": {
    "scrolled": true
   },
   "outputs": [
    {
     "name": "stdout",
     "output_type": "stream",
     "text": [
      "cuda\n",
      "|===========================================================================|\n",
      "|                  PyTorch CUDA memory summary, device ID 0                 |\n",
      "|---------------------------------------------------------------------------|\n",
      "|            CUDA OOMs: 0            |        cudaMalloc retries: 0         |\n",
      "|===========================================================================|\n",
      "|        Metric         | Cur Usage  | Peak Usage | Tot Alloc  | Tot Freed  |\n",
      "|---------------------------------------------------------------------------|\n",
      "| Allocated memory      |       0 B  |       0 B  |       0 B  |       0 B  |\n",
      "|       from large pool |       0 B  |       0 B  |       0 B  |       0 B  |\n",
      "|       from small pool |       0 B  |       0 B  |       0 B  |       0 B  |\n",
      "|---------------------------------------------------------------------------|\n",
      "| Active memory         |       0 B  |       0 B  |       0 B  |       0 B  |\n",
      "|       from large pool |       0 B  |       0 B  |       0 B  |       0 B  |\n",
      "|       from small pool |       0 B  |       0 B  |       0 B  |       0 B  |\n",
      "|---------------------------------------------------------------------------|\n",
      "| GPU reserved memory   |       0 B  |       0 B  |       0 B  |       0 B  |\n",
      "|       from large pool |       0 B  |       0 B  |       0 B  |       0 B  |\n",
      "|       from small pool |       0 B  |       0 B  |       0 B  |       0 B  |\n",
      "|---------------------------------------------------------------------------|\n",
      "| Non-releasable memory |       0 B  |       0 B  |       0 B  |       0 B  |\n",
      "|       from large pool |       0 B  |       0 B  |       0 B  |       0 B  |\n",
      "|       from small pool |       0 B  |       0 B  |       0 B  |       0 B  |\n",
      "|---------------------------------------------------------------------------|\n",
      "| Allocations           |       0    |       0    |       0    |       0    |\n",
      "|       from large pool |       0    |       0    |       0    |       0    |\n",
      "|       from small pool |       0    |       0    |       0    |       0    |\n",
      "|---------------------------------------------------------------------------|\n",
      "| Active allocs         |       0    |       0    |       0    |       0    |\n",
      "|       from large pool |       0    |       0    |       0    |       0    |\n",
      "|       from small pool |       0    |       0    |       0    |       0    |\n",
      "|---------------------------------------------------------------------------|\n",
      "| GPU reserved segments |       0    |       0    |       0    |       0    |\n",
      "|       from large pool |       0    |       0    |       0    |       0    |\n",
      "|       from small pool |       0    |       0    |       0    |       0    |\n",
      "|---------------------------------------------------------------------------|\n",
      "| Non-releasable allocs |       0    |       0    |       0    |       0    |\n",
      "|       from large pool |       0    |       0    |       0    |       0    |\n",
      "|       from small pool |       0    |       0    |       0    |       0    |\n",
      "|---------------------------------------------------------------------------|\n",
      "| Oversize allocations  |       0    |       0    |       0    |       0    |\n",
      "|---------------------------------------------------------------------------|\n",
      "| Oversize GPU segments |       0    |       0    |       0    |       0    |\n",
      "|===========================================================================|\n",
      "\n"
     ]
    }
   ],
   "source": [
    "import torch\n",
    "device = torch.device('cuda' if torch.cuda.is_available() else 'cpu')\n",
    "print(device)\n",
    "torch.cuda.empty_cache()\n",
    "print(torch.cuda.memory_summary())"
   ]
  },
  {
   "cell_type": "code",
   "execution_count": 2,
   "id": "1761e17e",
   "metadata": {},
   "outputs": [],
   "source": [
    "#coding:utf-8\n",
    "import os\n",
    "import torch\n",
    "import torch.nn as nn\n",
    "from torch.utils.data import DataLoader\n",
    "from torchvision import datasets,transforms\n",
    "from torch.autograd import Variable\n",
    "from imagenet_labels import *\n",
    "from vgg_model import *\n",
    "\n",
    "device = torch.device('cuda' if torch.cuda.is_available() else 'cpu')\n",
    "\n",
    "#data_transform = transforms.Compose(\n",
    "#    [transforms.ToTensor(),\n",
    "#     transforms.Normalize((0.5, 0.5, 0.5), (0.5, 0.5, 0.5))])# 把[0,1]归一化到[-1,1]\n",
    "\n",
    "#train_dataset = datasets.CIFAR10(root='./data', train=True,download=False, transform=data_transform)\n",
    "val_dataset = datasets.CIFAR10(root='../data', train=False,download=False, transform=transforms.ToTensor())\n",
    "\n",
    "batch_size=128\n",
    "\n",
    "#train_dataloader = DataLoader(train_dataset, batch_size=batch_size, shuffle=False)\n",
    "val_dataloader = DataLoader(val_dataset, batch_size=batch_size, shuffle=False)"
   ]
  },
  {
   "cell_type": "code",
   "execution_count": 3,
   "id": "8bb48697",
   "metadata": {},
   "outputs": [],
   "source": [
    "image_iter = iter(val_dataloader)\n",
    "data, true_labels = image_iter.next()"
   ]
  },
  {
   "cell_type": "code",
   "execution_count": 4,
   "id": "dc2dd771",
   "metadata": {},
   "outputs": [
    {
     "data": {
      "text/plain": [
       "torch.Size([128, 3, 32, 32])"
      ]
     },
     "execution_count": 4,
     "metadata": {},
     "output_type": "execute_result"
    }
   ],
   "source": [
    "data.shape"
   ]
  },
  {
   "cell_type": "code",
   "execution_count": 5,
   "id": "9f3555a4",
   "metadata": {
    "scrolled": true
   },
   "outputs": [],
   "source": [
    "model = VggNet(num_classes=10)\n",
    "model.load_state_dict((torch.load('../cifar10_vgg16_AT/checkpoint/cifar-10_std/checkpoint_76000.pth')))#评估普通模型-干净样本准确率\n",
    "model = model.to(device).eval()\n",
    "\n",
    "classes = ('plane', 'car', 'bird', 'cat',\n",
    "    'deer', 'dog', 'frog', 'horse', 'ship', 'truck')"
   ]
  },
  {
   "cell_type": "code",
   "execution_count": 6,
   "id": "e808b5e0",
   "metadata": {
    "scrolled": true
   },
   "outputs": [
    {
     "name": "stdout",
     "output_type": "stream",
     "text": [
      "acc: 96.094%\n",
      "Accuracy of plane : 84 %(11/13)\n",
      "Accuracy of   car : 100 %(10/10)\n",
      "Accuracy of  bird : 100 %(11/11)\n",
      "Accuracy of   cat : 93 %(14/15)\n",
      "Accuracy of  deer : 90 %(9/10)\n",
      "Accuracy of   dog : 100 %(9/9)\n",
      "Accuracy of  frog : 94 %(18/19)\n",
      "Accuracy of horse : 100 %(13/13)\n",
      "Accuracy of  ship : 100 %(17/17)\n",
      "Accuracy of truck : 100 %(11/11)\n"
     ]
    }
   ],
   "source": [
    "N_CLASSES = 10\n",
    "class_correct = list(0. for i in range(N_CLASSES))\n",
    "class_total = list(0. for i in range(N_CLASSES))\n",
    " \n",
    "#test\n",
    "total_correct = 0\n",
    "total_num = 0\n",
    "\n",
    "x,label = data.to(device) ,true_labels.to(device)\n",
    "logits = model(x)\n",
    "pred = logits.argmax(dim=1)\n",
    "total_correct += torch.eq(pred,label).float().sum().item()\n",
    "total_num += x.size(0)  #即batch_size\n",
    "\n",
    "c = (pred == label).squeeze()\n",
    "\n",
    "for i in range(len(label)):\n",
    "    _label = int(label[i])\n",
    "    class_correct[_label] += c[i].item()\n",
    "    class_total[_label] += 1\n",
    "\n",
    "acc = total_correct / total_num\n",
    "print('acc: %.3f%%' % (100.*acc))\n",
    "\n",
    "for i in range(N_CLASSES):\n",
    "    print('Accuracy of %5s : %2d %%(%d/%d)' % (\n",
    "        classes[i], 100. * class_correct[i] / class_total[i],class_correct[i],class_total[i]))"
   ]
  },
  {
   "cell_type": "code",
   "execution_count": 7,
   "id": "f1ec2524",
   "metadata": {},
   "outputs": [],
   "source": [
    "true_test=true_labels.numpy()"
   ]
  },
  {
   "cell_type": "code",
   "execution_count": 46,
   "id": "7482fac3",
   "metadata": {},
   "outputs": [],
   "source": [
    "from logic_units import *\n",
    "clean_logic_distance=[]\n",
    "def logic_change(unitA,unitB):\n",
    "    count = 0\n",
    "    for u in unitA:\n",
    "        if u in unitB:\n",
    "            count += 1\n",
    "    return count\n",
    "    \n",
    "# 原始样本与逻辑神经元\n",
    "for i in range(len(data)):\n",
    "    data_logic = Logic(model)\n",
    "    data_units, pre_label, data_class_units,cyout = data_logic.cal_logic_units(data[i]) \n",
    "    #逻辑距离：样本逻辑神经元VS所属类逻辑神经元\n",
    "    distance=logic_change(data_units,data_class_units)\n",
    "    clean_logic_distance.append(distance)"
   ]
  },
  {
   "cell_type": "code",
   "execution_count": 24,
   "id": "03e73f85",
   "metadata": {},
   "outputs": [],
   "source": [
    "def deep_logic(logic_distance):\n",
    "    rank_lst = np.argsort(logic_distance)  # 按照值从小到大排序,因此序号越小代表值越小代表越好\n",
    "    return rank_lst[::-1]"
   ]
  },
  {
   "cell_type": "code",
   "execution_count": null,
   "id": "92d0b5d0",
   "metadata": {},
   "outputs": [],
   "source": []
  },
  {
   "cell_type": "code",
   "execution_count": 25,
   "id": "3653f63d",
   "metadata": {},
   "outputs": [
    {
     "name": "stderr",
     "output_type": "stream",
     "text": [
      "/home/zxliang/anaconda3/envs/logic/lib/python3.7/site-packages/pandas/core/indexing.py:1732: SettingWithCopyWarning: \n",
      "A value is trying to be set on a copy of a slice from a DataFrame\n",
      "\n",
      "See the caveats in the documentation: https://pandas.pydata.org/pandas-docs/stable/user_guide/indexing.html#returning-a-view-versus-a-copy\n",
      "  self._setitem_single_block(indexer, value, name)\n"
     ]
    }
   ],
   "source": [
    "import time\n",
    "import pandas as pd\n",
    "# 可以贪心排\n",
    "# 可以单个样本比较排\n",
    "# 0 0.5 1\n",
    "\n",
    "start = time.time()\n",
    "rank_lst = deep_logic(logic_distance)\n",
    "end = time.time()\n",
    "rank_lst_time = end-start\n",
    "\n",
    "df = pd.DataFrame([])\n",
    "\n",
    "pred_test = model(data.to(device)).argmax(dim=1).cpu().numpy()\n",
    "df['right'] = (pred_test == true_test).astype('int')\n",
    "df['cam'] = 0\n",
    "df['cam'].loc[rank_lst] = list(range(1, len(rank_lst) + 1))\n",
    "df['cam_time'] = rank_lst_time\n",
    "df['rate'] = 0\n",
    "df['ctm'] = 0\n",
    "df['ctm'].loc[rank_lst] = list(range(1, len(rank_lst) + 1))\n",
    "df['ctm_time'] = rank_lst_time"
   ]
  },
  {
   "cell_type": "code",
   "execution_count": 26,
   "id": "359441bc",
   "metadata": {},
   "outputs": [],
   "source": [
    "df.to_csv('./all_output/output_cifar/{}/{}_nbc_t_{}.csv'.format('vgg16', 'cifar', 0.0))"
   ]
  },
  {
   "cell_type": "code",
   "execution_count": 28,
   "id": "d96577b5",
   "metadata": {},
   "outputs": [],
   "source": [
    "## deepgini\n",
    "def deep_metric(pred_test_prob):\n",
    "    metrics = np.sum(pred_test_prob ** 2,axis=1)  # 值越小,1-值就越大,因此值越小越好\n",
    "    rank_lst = np.argsort(metrics)  # 按照值从小到大排序,因此序号越小代表值越小代表越好\n",
    "    return rank_lst"
   ]
  },
  {
   "cell_type": "code",
   "execution_count": 13,
   "id": "097aef3f",
   "metadata": {},
   "outputs": [],
   "source": []
  },
  {
   "cell_type": "code",
   "execution_count": 29,
   "id": "7749045c",
   "metadata": {},
   "outputs": [],
   "source": [
    "import time\n",
    "import pandas as pd\n",
    "import numpy as np\n",
    "from tqdm import tqdm\n",
    "# 可以贪心排\n",
    "# 可以单个样本比较排\n",
    "# 0 0.5 1\n",
    "\n",
    "pred_test_prob = model(data.to(device)).cpu().detach().numpy()\n",
    "pred_test=np.argmax(pred_test_prob, axis=1)\n",
    "start = time.time()\n",
    "rank_lst = deep_metric(pred_test_prob)\n",
    "end = time.time()\n",
    "rank_lst_time = end-start\n",
    "\n",
    "df = pd.DataFrame([])\n",
    "\n",
    "df['right'] = (pred_test == true_test).astype('int')\n",
    "df['cam'] = 0\n",
    "df['cam'].loc[rank_lst] = list(range(1, len(rank_lst) + 1))\n",
    "df['cam_time'] = rank_lst_time\n",
    "df['rate'] = 0\n",
    "df['ctm'] = 0\n",
    "df['ctm'].loc[rank_lst] = list(range(1, len(rank_lst) + 1))\n",
    "df['ctm_time'] = rank_lst_time"
   ]
  },
  {
   "cell_type": "code",
   "execution_count": 30,
   "id": "cb4b6387",
   "metadata": {},
   "outputs": [],
   "source": [
    "df.to_csv('./all_output/output_cifar/{}/{}_deep_metric.csv'.format('vgg16', 'cifar'))"
   ]
  },
  {
   "cell_type": "code",
   "execution_count": 32,
   "id": "1a539033",
   "metadata": {},
   "outputs": [],
   "source": [
    "#统计在对抗攻击中逻辑神经元有效性\n",
    "#即：在攻击成功的样本中，有多少逻辑神经元发生变化\n",
    "\n",
    "from adv_cleverhans import *\n",
    "\n",
    "logic_is_right = 0\n",
    "adv_success = 0\n",
    "\n",
    "#adv_example, adv_target = FGSM(model, clean_datas, clean_labels)  #评估FGSM无目标攻击下对抗样本的逻辑神经元有效率\n",
    "adv_example, adv_target = FGSM(model, data, true_labels, targeted=True,y=torch.tensor([9] * batch_size, device=device))  # 评估FGSM有目标攻击下对抗样本的逻辑神经元有效率\n",
    "\n",
    "logic_distance=[]\n",
    "for i in range(len(adv_example)):\n",
    "    # 原始样本与逻辑神经元\n",
    "    clean_logic = Logic(model)\n",
    "    clean_units, clabel, clean_class_units,cyout = clean_logic.cal_logic_units(data[i])\n",
    "    adv_logic = Logic(model)\n",
    "    adv_units, alabel, adv_class_units,ayout = adv_logic.cal_logic_units(adv_example[i])\n",
    "    distance=logic_change(clean_units,adv_units)\n",
    "    logic_distance.append(distance)"
   ]
  },
  {
   "cell_type": "code",
   "execution_count": 47,
   "id": "ab96f529",
   "metadata": {},
   "outputs": [
    {
     "data": {
      "text/plain": [
       "128"
      ]
     },
     "execution_count": 47,
     "metadata": {},
     "output_type": "execute_result"
    }
   ],
   "source": [
    "len(clean_logic_distance)"
   ]
  },
  {
   "cell_type": "code",
   "execution_count": 42,
   "id": "517d91ea",
   "metadata": {},
   "outputs": [],
   "source": [
    "new_test_data=torch.cat([data.to(device), adv_example], dim=0)\n",
    "new_test_label=torch.cat([true_labels.to(device), true_labels.to(device)], dim=0)"
   ]
  },
  {
   "cell_type": "code",
   "execution_count": 56,
   "id": "8fe76af3",
   "metadata": {},
   "outputs": [],
   "source": [
    "torch.save(new_test_data,'testdata_128clean_128adv_cifar10.pt')\n",
    "torch.save(new_test_label,'testlabel_128clean_128adv_cifar10.pt')"
   ]
  },
  {
   "cell_type": "code",
   "execution_count": 51,
   "id": "17afcd8f",
   "metadata": {},
   "outputs": [],
   "source": [
    "true_test=new_test_label.cpu().numpy()"
   ]
  },
  {
   "cell_type": "code",
   "execution_count": 48,
   "id": "3d46b9d6",
   "metadata": {},
   "outputs": [],
   "source": [
    "new_test_logic_distance=np.append(clean_logic_distance,logic_distance)"
   ]
  },
  {
   "cell_type": "code",
   "execution_count": 60,
   "id": "838821d5",
   "metadata": {},
   "outputs": [],
   "source": [
    "aa=torch.load('testdata_128clean_128adv_cifar10.pt')"
   ]
  },
  {
   "cell_type": "code",
   "execution_count": 61,
   "id": "b7c4cc47",
   "metadata": {},
   "outputs": [
    {
     "data": {
      "text/plain": [
       "torch.Size([256, 3, 32, 32])"
      ]
     },
     "execution_count": 61,
     "metadata": {},
     "output_type": "execute_result"
    }
   ],
   "source": [
    "aa.shape"
   ]
  },
  {
   "cell_type": "code",
   "execution_count": 52,
   "id": "96c29c66",
   "metadata": {},
   "outputs": [
    {
     "name": "stderr",
     "output_type": "stream",
     "text": [
      "/home/zxliang/anaconda3/envs/logic/lib/python3.7/site-packages/pandas/core/indexing.py:1732: SettingWithCopyWarning: \n",
      "A value is trying to be set on a copy of a slice from a DataFrame\n",
      "\n",
      "See the caveats in the documentation: https://pandas.pydata.org/pandas-docs/stable/user_guide/indexing.html#returning-a-view-versus-a-copy\n",
      "  self._setitem_single_block(indexer, value, name)\n"
     ]
    }
   ],
   "source": [
    "import time\n",
    "import pandas as pd\n",
    "# 可以贪心排\n",
    "# 可以单个样本比较排\n",
    "# 0 0.5 1\n",
    "\n",
    "start = time.time()\n",
    "rank_lst = deep_logic(new_test_logic_distance)\n",
    "end = time.time()\n",
    "rank_lst_time = end-start\n",
    "\n",
    "df = pd.DataFrame([])\n",
    "\n",
    "pred_test = model(new_test_data.to(device)).argmax(dim=1).cpu().numpy()\n",
    "df['right'] = (pred_test == true_test).astype('int')\n",
    "df['cam'] = 0\n",
    "df['cam'].loc[rank_lst] = list(range(1, len(rank_lst) + 1))\n",
    "df['cam_time'] = rank_lst_time\n",
    "df['rate'] = 0\n",
    "df['ctm'] = 0\n",
    "df['ctm'].loc[rank_lst] = list(range(1, len(rank_lst) + 1))\n",
    "df['ctm_time'] = rank_lst_time"
   ]
  },
  {
   "cell_type": "code",
   "execution_count": 53,
   "id": "fc99f04e",
   "metadata": {},
   "outputs": [],
   "source": [
    "df.to_csv('./all_output/output_cifar/{}/{}_nbc_t_{}.csv'.format('vgg16', 'cifar', 0.0))"
   ]
  },
  {
   "cell_type": "code",
   "execution_count": null,
   "id": "105836bc",
   "metadata": {},
   "outputs": [],
   "source": []
  }
 ],
 "metadata": {
  "kernelspec": {
   "display_name": "Python 3 (ipykernel)",
   "language": "python",
   "name": "python3"
  },
  "language_info": {
   "codemirror_mode": {
    "name": "ipython",
    "version": 3
   },
   "file_extension": ".py",
   "mimetype": "text/x-python",
   "name": "python",
   "nbconvert_exporter": "python",
   "pygments_lexer": "ipython3",
   "version": "3.7.11"
  }
 },
 "nbformat": 4,
 "nbformat_minor": 5
}
