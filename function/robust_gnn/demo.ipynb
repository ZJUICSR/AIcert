{
 "cells": [
  {
   "cell_type": "code",
   "execution_count": 1,
   "metadata": {},
   "outputs": [],
   "source": [
    "import numpy as np\n",
    "import torch\n",
    "from robust_gcn.robust_gcn import RobustGCNModel, train, certify, sparse_tensor\n",
    "from robust_gcn.utils import train_val_test_split_tabular, load_npz\n",
    "from matplotlib import pyplot as plt"
   ]
  },
  {
   "cell_type": "markdown",
   "metadata": {},
   "source": [
    "### Data loading"
   ]
  },
  {
   "cell_type": "code",
   "execution_count": 2,
   "metadata": {},
   "outputs": [],
   "source": [
    "A, X, z = load_npz(\"data/citeseer.npz\")\n",
    "\n",
    "A = (A + A.T > 0).astype(\"float32\")  # make undirected\n",
    "X = (X > 0).astype(\"float32\")  # binarize node attributes\n",
    "K = z.max()+1\n",
    "N,D = X.shape\n",
    "\n",
    "X_t = sparse_tensor(X).cuda()\n",
    "y_t = torch.tensor(z.astype(\"int64\"), device=\"cuda\")"
   ]
  },
  {
   "cell_type": "markdown",
   "metadata": {},
   "source": [
    "### Hyperparameters\n",
    "\n",
    "Larger batch sizes mean more GPU memory is required.   \n",
    "We trained on NVIDIA 1080 Ti and recommend the following batch sizes to avoid out of memory errors:\n",
    "* Citeseer, Cora-ML: `8`\n",
    "* PubMed: `6`\n",
    "\n",
    "We simulate larger batch sizes during training by storing the gradients of several mini-batches before updating.   \n",
    "If you encounter out-of-memory errors, reduce the batch size and restart."
   ]
  },
  {
   "cell_type": "code",
   "execution_count": 3,
   "metadata": {},
   "outputs": [],
   "source": [
    "hidden_sizes = [32, K]\n",
    "q = int(0.01*D)\n",
    "Q=12\n",
    "batch_size = 8"
   ]
  },
  {
   "cell_type": "markdown",
   "metadata": {},
   "source": [
    "### Data splitting"
   ]
  },
  {
   "cell_type": "code",
   "execution_count": 4,
   "metadata": {},
   "outputs": [],
   "source": [
    "idx_train, idx_val, idx_test = train_val_test_split_tabular(np.arange(N),\n",
    "                                                            train_size=0.1, val_size=0.1, test_size=0.8,\n",
    "                                                            stratify=z, random_state=123)\n",
    "\n",
    "idx_unlabeled = np.union1d(idx_val, idx_test)"
   ]
  },
  {
   "cell_type": "markdown",
   "metadata": {},
   "source": [
    "### Model creation\n",
    "\n",
    "We create two GCN models; `gcn_model_normal` will be trained traditionally and `gcn_model` using our robust training procedure.   \n",
    "Later we compare their classification performances and robustness properties."
   ]
  },
  {
   "cell_type": "code",
   "execution_count": 5,
   "metadata": {},
   "outputs": [],
   "source": [
    "gcn_model_normal = RobustGCNModel(A, [D]+hidden_sizes).cuda()"
   ]
  },
  {
   "cell_type": "code",
   "execution_count": 6,
   "metadata": {},
   "outputs": [],
   "source": [
    "gcn_model = RobustGCNModel(A, [D]+hidden_sizes).cuda()"
   ]
  },
  {
   "cell_type": "markdown",
   "metadata": {},
   "source": [
    "Train with traditional optimization."
   ]
  },
  {
   "cell_type": "code",
   "execution_count": 7,
   "metadata": {},
   "outputs": [
    {
     "name": "stderr",
     "output_type": "stream",
     "text": [
      "100%|██████████| 250/250 [00:00<00:00, 254.38it/s]\n"
     ]
    }
   ],
   "source": [
    "train(gcn_model_normal, X_t.cuda(), y_t, idx_train, idx_unlabeled, q=q,\n",
    "                 Q=Q, method=\"Normal\", batch_size=batch_size, n_iters=250)"
   ]
  },
  {
   "cell_type": "code",
   "execution_count": 8,
   "metadata": {},
   "outputs": [
    {
     "name": "stdout",
     "output_type": "stream",
     "text": [
      "68.45% of test nodes are correctly classified with normal training.\n"
     ]
    }
   ],
   "source": [
    "predictions_test = gcn_model_normal.predict(X_t.to_dense().cuda(), idx_test)\n",
    "test_accuracy = (predictions_test == y_t[idx_test].cpu()).float().mean().numpy()\n",
    "print(f\"{np.round(test_accuracy*100,2)}% of test nodes are correctly classified with normal training.\")"
   ]
  },
  {
   "cell_type": "code",
   "execution_count": 9,
   "metadata": {},
   "outputs": [],
   "source": [
    "torch.cuda.empty_cache()"
   ]
  },
  {
   "cell_type": "code",
   "execution_count": 10,
   "metadata": {},
   "outputs": [
    {
     "name": "stderr",
     "output_type": "stream",
     "text": [
      "100%|██████████| 414/414 [00:10<00:00, 39.00it/s]"
     ]
    },
    {
     "name": "stdout",
     "output_type": "stream",
     "text": [
      "21.65% of nodes are certifiably robust for 12 perturbations after normal training.\n"
     ]
    },
    {
     "name": "stderr",
     "output_type": "stream",
     "text": [
      "\n"
     ]
    }
   ],
   "source": [
    "robust_at_Q = certify(gcn_model_normal, X.astype(\"float32\"), q, \n",
    "                      optimize_omega=False, Q=Q, \n",
    "                      batch_size=batch_size, \n",
    "                      certify_nonrobustness=False,\n",
    "                      progress=True)[0].mean()\n",
    "print(f\"{np.round(robust_at_Q * 100, 2)}% of nodes are certifiably robust for {Q} perturbations after normal training.\")"
   ]
  },
  {
   "cell_type": "markdown",
   "metadata": {},
   "source": [
    "Robustness certification for $Q \\in \\{1,5,10,12,15,25,35,50\\}$"
   ]
  },
  {
   "cell_type": "code",
   "execution_count": 11,
   "metadata": {},
   "outputs": [
    {
     "name": "stderr",
     "output_type": "stream",
     "text": [
      "  0%|          | 0/414 [00:00<?, ?it/s]"
     ]
    },
    {
     "name": "stdout",
     "output_type": "stream",
     "text": [
      "1\n"
     ]
    },
    {
     "name": "stderr",
     "output_type": "stream",
     "text": [
      "100%|██████████| 414/414 [00:13<00:00, 30.63it/s]\n",
      "  1%|          | 3/414 [00:00<00:15, 25.94it/s]"
     ]
    },
    {
     "name": "stdout",
     "output_type": "stream",
     "text": [
      "5\n"
     ]
    },
    {
     "name": "stderr",
     "output_type": "stream",
     "text": [
      "100%|██████████| 414/414 [00:16<00:00, 25.19it/s]\n",
      "  1%|          | 3/414 [00:00<00:19, 20.57it/s]"
     ]
    },
    {
     "name": "stdout",
     "output_type": "stream",
     "text": [
      "10\n"
     ]
    },
    {
     "name": "stderr",
     "output_type": "stream",
     "text": [
      "100%|██████████| 414/414 [00:19<00:00, 21.28it/s]\n",
      "  1%|          | 3/414 [00:00<00:18, 22.83it/s]"
     ]
    },
    {
     "name": "stdout",
     "output_type": "stream",
     "text": [
      "12\n"
     ]
    },
    {
     "name": "stderr",
     "output_type": "stream",
     "text": [
      "100%|██████████| 414/414 [00:20<00:00, 20.41it/s]\n",
      "  1%|          | 3/414 [00:00<00:18, 21.77it/s]"
     ]
    },
    {
     "name": "stdout",
     "output_type": "stream",
     "text": [
      "15\n"
     ]
    },
    {
     "name": "stderr",
     "output_type": "stream",
     "text": [
      "100%|██████████| 414/414 [00:20<00:00, 20.15it/s]\n",
      "  1%|          | 3/414 [00:00<00:19, 20.85it/s]"
     ]
    },
    {
     "name": "stdout",
     "output_type": "stream",
     "text": [
      "25\n"
     ]
    },
    {
     "name": "stderr",
     "output_type": "stream",
     "text": [
      "100%|██████████| 414/414 [00:22<00:00, 18.23it/s]\n",
      "  0%|          | 2/414 [00:00<00:22, 18.00it/s]"
     ]
    },
    {
     "name": "stdout",
     "output_type": "stream",
     "text": [
      "35\n"
     ]
    },
    {
     "name": "stderr",
     "output_type": "stream",
     "text": [
      "100%|██████████| 414/414 [00:22<00:00, 18.40it/s]\n",
      "  1%|          | 3/414 [00:00<00:19, 20.89it/s]"
     ]
    },
    {
     "name": "stdout",
     "output_type": "stream",
     "text": [
      "50\n"
     ]
    },
    {
     "name": "stderr",
     "output_type": "stream",
     "text": [
      "100%|██████████| 414/414 [00:21<00:00, 19.04it/s]\n"
     ]
    }
   ],
   "source": [
    "certifiable_nodes_normal = []\n",
    "\n",
    "Q_range = [1,5,10,12,15, 25, 35, 50]\n",
    "for _Q in Q_range:\n",
    "    print(_Q)\n",
    "    certifiable_nodes_normal.append(certify(gcn_model_normal, X.astype(\"float32\"), q, \n",
    "                                    optimize_omega=False, \n",
    "                                    Q=int(_Q), batch_size=batch_size, \n",
    "                                    certify_nonrobustness=True,\n",
    "                                    progress=True))"
   ]
  },
  {
   "cell_type": "code",
   "execution_count": 12,
   "metadata": {},
   "outputs": [],
   "source": [
    "robust_normal = np.array([x[0] for x in certifiable_nodes_normal])\n",
    "nonrobust_normal = np.array([x[1] for x in certifiable_nodes_normal])"
   ]
  },
  {
   "cell_type": "markdown",
   "metadata": {},
   "source": [
    "Repeat the previous steps for the model that is trained with our robust training procedure."
   ]
  },
  {
   "cell_type": "code",
   "execution_count": 13,
   "metadata": {},
   "outputs": [
    {
     "name": "stderr",
     "output_type": "stream",
     "text": [
      "100%|██████████| 1000/1000 [02:47<00:00,  5.98it/s]\n"
     ]
    }
   ],
   "source": [
    "train(gcn_model, X_t.cuda(), y_t, idx_train, idx_unlabeled, q=q, Q=Q, method=\"Robust Hinge U\",\n",
    "      burn_in=100, batch_size=batch_size, n_iters=1000, margin_iters=5)"
   ]
  },
  {
   "cell_type": "code",
   "execution_count": 14,
   "metadata": {},
   "outputs": [
    {
     "name": "stdout",
     "output_type": "stream",
     "text": [
      "68.57% of test nodes are correctly classified after robust training.\n"
     ]
    }
   ],
   "source": [
    "predictions_test = gcn_model.predict(X_t.to_dense().cuda(), idx_test)\n",
    "test_accuracy = (predictions_test == y_t[idx_test].cpu()).float().mean().numpy()\n",
    "print(f\"{np.round(test_accuracy*100,2)}% of test nodes are correctly classified after robust training.\")"
   ]
  },
  {
   "cell_type": "code",
   "execution_count": 15,
   "metadata": {},
   "outputs": [
    {
     "name": "stderr",
     "output_type": "stream",
     "text": [
      "100%|██████████| 414/414 [00:11<00:00, 37.45it/s]"
     ]
    },
    {
     "name": "stdout",
     "output_type": "stream",
     "text": [
      "77.48% of nodes are certifiably robust for 12 perturbations after robust training.\n"
     ]
    },
    {
     "name": "stderr",
     "output_type": "stream",
     "text": [
      "\n"
     ]
    }
   ],
   "source": [
    "robust_at_Q = certify(gcn_model, X.astype(\"float32\"), q, \n",
    "                      optimize_omega=False, Q=Q, \n",
    "                      batch_size=batch_size, \n",
    "                      certify_nonrobustness=False,\n",
    "                      progress=True)[0].mean()\n",
    "print(f\"{np.round(robust_at_Q * 100, 2)}% of nodes are certifiably robust for {Q} perturbations after robust training.\")"
   ]
  },
  {
   "cell_type": "code",
   "execution_count": 16,
   "metadata": {},
   "outputs": [
    {
     "name": "stderr",
     "output_type": "stream",
     "text": [
      "  0%|          | 0/414 [00:00<?, ?it/s]"
     ]
    },
    {
     "name": "stdout",
     "output_type": "stream",
     "text": [
      "1\n"
     ]
    },
    {
     "name": "stderr",
     "output_type": "stream",
     "text": [
      "100%|██████████| 414/414 [00:13<00:00, 29.88it/s]\n",
      "  1%|          | 4/414 [00:00<00:10, 37.80it/s]"
     ]
    },
    {
     "name": "stdout",
     "output_type": "stream",
     "text": [
      "5\n"
     ]
    },
    {
     "name": "stderr",
     "output_type": "stream",
     "text": [
      "100%|██████████| 414/414 [00:13<00:00, 30.23it/s]\n",
      "  1%|          | 3/414 [00:00<00:13, 29.79it/s]"
     ]
    },
    {
     "name": "stdout",
     "output_type": "stream",
     "text": [
      "10\n"
     ]
    },
    {
     "name": "stderr",
     "output_type": "stream",
     "text": [
      "100%|██████████| 414/414 [00:13<00:00, 30.71it/s]\n",
      "  1%|          | 3/414 [00:00<00:16, 25.26it/s]"
     ]
    },
    {
     "name": "stdout",
     "output_type": "stream",
     "text": [
      "12\n"
     ]
    },
    {
     "name": "stderr",
     "output_type": "stream",
     "text": [
      "100%|██████████| 414/414 [00:15<00:00, 26.00it/s]\n",
      "  0%|          | 2/414 [00:00<00:20, 19.94it/s]"
     ]
    },
    {
     "name": "stdout",
     "output_type": "stream",
     "text": [
      "15\n"
     ]
    },
    {
     "name": "stderr",
     "output_type": "stream",
     "text": [
      "100%|██████████| 414/414 [00:17<00:00, 24.09it/s]\n",
      "  1%|          | 3/414 [00:00<00:18, 22.21it/s]"
     ]
    },
    {
     "name": "stdout",
     "output_type": "stream",
     "text": [
      "25\n"
     ]
    },
    {
     "name": "stderr",
     "output_type": "stream",
     "text": [
      "100%|██████████| 414/414 [00:19<00:00, 21.15it/s]\n",
      "  0%|          | 2/414 [00:00<00:20, 19.88it/s]"
     ]
    },
    {
     "name": "stdout",
     "output_type": "stream",
     "text": [
      "35\n"
     ]
    },
    {
     "name": "stderr",
     "output_type": "stream",
     "text": [
      "100%|██████████| 414/414 [00:20<00:00, 20.68it/s]\n",
      "  0%|          | 2/414 [00:00<00:26, 15.30it/s]"
     ]
    },
    {
     "name": "stdout",
     "output_type": "stream",
     "text": [
      "50\n"
     ]
    },
    {
     "name": "stderr",
     "output_type": "stream",
     "text": [
      "100%|██████████| 414/414 [00:22<00:00, 18.75it/s]\n"
     ]
    }
   ],
   "source": [
    "certifiable_nodes = []\n",
    "\n",
    "Q_range = [1,5,10,12,15, 25, 35, 50]\n",
    "for _Q in Q_range:\n",
    "    print(_Q)\n",
    "    certifiable_nodes.append(certify(gcn_model, X.astype(\"float32\"), q, \n",
    "                                     optimize_omega=False, \n",
    "                                     Q=int(_Q), batch_size=batch_size, \n",
    "                                     certify_nonrobustness=True,\n",
    "                                     progress=True))"
   ]
  },
  {
   "cell_type": "code",
   "execution_count": 17,
   "metadata": {},
   "outputs": [],
   "source": [
    "robust = np.array([x[0] for x in certifiable_nodes])\n",
    "nonrobust = np.array([x[1] for x in certifiable_nodes])"
   ]
  },
  {
   "cell_type": "markdown",
   "metadata": {},
   "source": [
    "### Visualize results"
   ]
  },
  {
   "cell_type": "code",
   "execution_count": 18,
   "metadata": {},
   "outputs": [
    {
     "name": "stderr",
     "output_type": "stream",
     "text": [
      "<ipython-input-18-1d65e7a806e4>:7: MatplotlibDeprecationWarning: Since 3.2, the parameter *where* must have the same size as [1 5 10 12 15 25 35 50] in fill_betweenx(). This will become an error two minor releases later.\n",
      "  plt.fill_between(Q_range, 100, 100*(1-nonrobust.mean(1)), where=nonrobust.mean() <= 1,\n"
     ]
    },
    {
     "data": {
      "image/png": "[encoded data removed]",
      "text/plain": [
       "<Figure size 432x288 with 1 Axes>"
      ]
     },
     "metadata": {
      "needs_background": "light"
     },
     "output_type": "display_data"
    }
   ],
   "source": [
    "plt.plot(Q_range, 100*robust_normal.mean(1), linewidth=3, color=\"grey\", linestyle=\"--\", label=\"Standard training\")\n",
    "plt.plot(Q_range, 100*(1-nonrobust_normal.mean(1)), linewidth=3, color=\"grey\", linestyle=\"--\")\n",
    "\n",
    "plt.plot(Q_range, 100*(robust.mean(1)), linewidth=3)\n",
    "plt.fill_between(Q_range, 0, 100*robust.mean(1), alpha=0.2, label=\"Certifiably robust\")\n",
    "plt.plot(Q_range, 100*(1-nonrobust.mean(1)), linewidth=3)\n",
    "plt.fill_between(Q_range, 100, 100*(1-nonrobust.mean(1)), where=nonrobust.mean() <= 1,\n",
    "                alpha=0.2, label=\"Certifiably nonrobust\")\n",
    "\n",
    "plt.xlabel(\"Number of perturbations\", fontsize=14)\n",
    "plt.ylabel(\"% certifiable nodes\", fontsize=14)\n",
    "\n",
    "ax = plt.gca()\n",
    "ax.tick_params(axis='both', which='major', labelsize=14)\n",
    "plt.ylim((-3,103))\n",
    "plt.legend(fontsize=14)\n",
    "plt.show()"
   ]
  },
  {
   "cell_type": "code",
   "execution_count": 31,
   "metadata": {},
   "outputs": [
    {
     "name": "stdout",
     "output_type": "stream",
     "text": [
      "{'std_train_line1': [[1, 87.13768115942028], [5, 56.67270531400966], [10, 28.291062801932366], [12, 21.64855072463768], [15, 15.157004830917876], [25, 3.985507246376811], [35, 1.8719806763285023], [50, 0.4830917874396135]], 'std_train_line2': [[1, 87.19806763285024], [5, 58.393719806763286], [10, 32.82004830917874], [12, 26.026570048309182], [15, 19.595410628019327], [25, 6.914251207729471], [35, 3.1099033816425092], [50, 1.8115942028985477]], 'robust_line': [[1, 99.81884057971014], [5, 97.73550724637681], [10, 89.03985507246377], [12, 77.47584541062803], [15, 52.89855072463768], [25, 19.504830917874397], [35, 8.001207729468598], [50, 2.7777777777777777]], 'robust_area': [[1, 99.81884057971014], [5, 97.73550724637681], [10, 89.03985507246377], [12, 77.47584541062803], [15, 52.89855072463768], [25, 19.504830917874397], [35, 8.001207729468598], [50, 2.7777777777777777], [50, 0], [1, 0]], 'nonrobust_line': [[1, 99.81884057971014], [5, 97.73550724637681], [10, 89.22101449275362], [12, 78.38164251207729], [15, 54.95169082125604], [25, 21.044685990338163], [35, 9.873188405797107], [50, 4.347826086956519]], 'nonrobust_area': [[1, 99.81884057971014], [5, 97.73550724637681], [10, 89.22101449275362], [12, 78.38164251207729], [15, 54.95169082125604], [25, 21.044685990338163], [35, 9.873188405797107], [50, 4.347826086956519], [50, 100], [1, 100]]}\n"
     ]
    }
   ],
   "source": [
    "# plt.plot(Q_range, 100*robust_normal.mean(1), linewidth=3, color=\"grey\", linestyle=\"--\", label=\"Standard training\")\n",
    "# plt.plot(Q_range, 100*(1-nonrobust_normal.mean(1)), linewidth=3, color=\"grey\", linestyle=\"--\")\n",
    "\n",
    "# plt.plot(Q_range, 100*(robust.mean(1)), linewidth=3)\n",
    "# plt.fill_between(Q_range, 0, 100*robust.mean(1), alpha=0.2, label=\"Certifiably robust\")\n",
    "# plt.plot(Q_range, 100*(1-nonrobust.mean(1)), linewidth=3)\n",
    "# plt.fill_between(Q_range, 100, 100*(1-nonrobust.mean(1)), where=nonrobust.mean() <= 1,\n",
    "#                 alpha=0.2, label=\"Certifiably nonrobust\")\n",
    "\n",
    "std_train_line1 = list(zip(Q_range, 100*robust_normal.mean(1)))\n",
    "std_train_line2 = list(zip(Q_range, 100*(1-nonrobust_normal.mean(1))))\n",
    "\n",
    "robust_line = list(zip(Q_range, 100*(robust.mean(1))))\n",
    "robust_area = []\n",
    "for Q_val, val in robust_line:\n",
    "    robust_area.append([Q_val, val])\n",
    "robust_area += [[Q_range[-1], 0], [Q_range[0], 0]]\n",
    "\n",
    "nonrobust_line = list(zip(Q_range, 100*(1-nonrobust.mean(1))))\n",
    "nonrobust_area = []\n",
    "for Q_val, val in nonrobust_line:\n",
    "    nonrobust_area.append([Q_val, val])\n",
    "nonrobust_area += [[Q_range[-1], 100], [Q_range[0], 100]]\n",
    "\n",
    "print(dict(\n",
    "    std_train_line1=list(map(list, std_train_line1)), \n",
    "    std_train_line2=list(map(list, std_train_line2)),\n",
    "    robust_line=list(map(list, robust_line)), \n",
    "    robust_area=robust_area, \n",
    "    nonrobust_line=list(map(list, nonrobust_line)), \n",
    "    nonrobust_area=nonrobust_area\n",
    "))"
   ]
  },
  {
   "cell_type": "code",
   "execution_count": 37,
   "metadata": {},
   "outputs": [
    {
     "name": "stdout",
     "output_type": "stream",
     "text": [
      "8\n"
     ]
    },
    {
     "data": {
      "text/plain": [
       "(array([ True,  True,  True, ..., False,  True, False]),\n",
       " array([0., 0., 0., ..., 1., 0., 1.]))"
      ]
     },
     "execution_count": 37,
     "metadata": {},
     "output_type": "execute_result"
    }
   ],
   "source": [
    "\n",
    "print(len(certifiable_nodes))\n",
    "\n",
    "\n",
    "certifiable_nodes_normal[0]"
   ]
  },
  {
   "cell_type": "code",
   "execution_count": null,
   "metadata": {},
   "outputs": [],
   "source": []
  }
 ],
 "metadata": {
  "interpreter": {
   "hash": "404a6b60156a23333f2edae7da6a47f592e24df47a3d8499cf2adec3d930c0ba"
  },
  "kernelspec": {
   "display_name": "Python 3.8.5 64-bit ('base': conda)",
   "name": "python3"
  },
  "language_info": {
   "codemirror_mode": {
    "name": "ipython",
    "version": 3
   },
   "file_extension": ".py",
   "mimetype": "text/x-python",
   "name": "python",
   "nbconvert_exporter": "python",
   "pygments_lexer": "ipython3",
   "version": "3.8.5"
  }
 },
 "nbformat": 4,
 "nbformat_minor": 2
}
